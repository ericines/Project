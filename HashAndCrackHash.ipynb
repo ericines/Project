{
  "nbformat": 4,
  "nbformat_minor": 0,
  "metadata": {
    "colab": {
      "provenance": [],
      "include_colab_link": true
    },
    "kernelspec": {
      "name": "python3",
      "display_name": "Python 3"
    },
    "language_info": {
      "name": "python"
    }
  },
  "cells": [
    {
      "cell_type": "markdown",
      "metadata": {
        "id": "view-in-github",
        "colab_type": "text"
      },
      "source": [
        "<a href=\"https://colab.research.google.com/github/ericines/Project/blob/Hashes/HashAndCrackHash.ipynb\" target=\"_parent\"><img src=\"https://colab.research.google.com/assets/colab-badge.svg\" alt=\"Open In Colab\"/></a>"
      ]
    },
    {
      "cell_type": "code",
      "execution_count": 4,
      "metadata": {
        "colab": {
          "base_uri": "https://localhost:8080/"
        },
        "id": "I7lNpO89xQv_",
        "outputId": "fc532739-5432-49fd-d9f9-3f0811610e81",
        "cellView": "form"
      },
      "outputs": [
        {
          "output_type": "stream",
          "name": "stdout",
          "text": [
            "Enter what you want to be hashed 2222\n",
            "Hashed integer: edee29f882543b956620b26d0ee0e7e950399b1c4222f5de05e06425b4c995e9\n"
          ]
        }
      ],
      "source": [
        "#@title Attempt 1\n",
        "\n",
        "import hashlib\n",
        "\n",
        "def hash_integer(integer):\n",
        "  #Hashes an integer using the SHA-256 algorithm.\n",
        "\n",
        "  #code to hash the user input\n",
        "  hasher = hashlib.sha256()\n",
        "  hasher.update(str(integer).encode())\n",
        "  return hasher.hexdigest()\n",
        "\n",
        "  #instruct user to put in integer they want to be hashed\n",
        "user_input = input(\"Enter what you want to be hashed \")\n",
        "\n",
        "number = int(user_input)\n",
        "\n",
        "integer = number\n",
        "hashed_integer = hash_integer(integer)\n",
        "\n",
        "print(\"Hashed integer:\", hashed_integer)\n",
        "\n",
        "\n",
        "\n"
      ]
    },
    {
      "cell_type": "code",
      "source": [
        "#@title Attempt 1\n",
        "\n",
        "import hashlib\n",
        "\n",
        "import numbers\n",
        "\n",
        "def crack_hash(hash, wordlist):\n",
        "  #Tries to crack a hash using a wordlist.\n",
        "\n",
        "  for word in wordlist:\n",
        "    hashed_word = hashlib.sha256(word.encode()).hexdigest()\n",
        "    if hashed_word == hash:\n",
        "      return word\n",
        "  return None\n",
        "\n",
        "\n",
        "  #Instruct user to input the hash they want cracked\n",
        "hash = input(\"What hash would you like to be cracked? \")\n",
        "wordlist = []\n",
        "\n",
        "for integer in range(2220, 2223):\n",
        "  wordlist.append(str(integer))\n",
        "\n",
        "password = crack_hash(hash, wordlist)\n",
        "\n",
        "if password is not None:\n",
        "  print(\"The password is:\", password)\n",
        "else:\n",
        "  print(\"The password could not be cracked.\")\n"
      ],
      "metadata": {
        "colab": {
          "base_uri": "https://localhost:8080/"
        },
        "id": "uOHIN04Y0oP4",
        "outputId": "dc54e33f-cea7-4db1-841c-73180b47ee84",
        "cellView": "form"
      },
      "execution_count": 6,
      "outputs": [
        {
          "output_type": "stream",
          "name": "stdout",
          "text": [
            "What hash would you like to be cracked? edee29f882543b956620b26d0ee0e7e950399b1c4222f5de05e06425b4c995e9\n",
            "The password is: 2222\n"
          ]
        }
      ]
    },
    {
      "cell_type": "markdown",
      "source": [
        "# Attempt 2"
      ],
      "metadata": {
        "id": "NGftyjDf4tWy"
      }
    },
    {
      "cell_type": "code",
      "source": [
        "import hashlib\n",
        "import pandas as pd\n",
        "\n",
        "def load_csv_to_dict(file_path):\n",
        "    df = pd.read_csv(file_path)\n",
        "    return dict(zip(df['keyword'], df['hash']))\n",
        "\n",
        "def get_sha256(input_string):\n",
        "    return hashlib.sha256(input_string.encode()).hexdigest()\n",
        "\n",
        "def check_known_hashes(generated_hash, known_hashes):\n",
        "    for keyword, known_hash in known_hashes.items():\n",
        "        if generated_hash == known_hash:\n",
        "            return f\"Hash found! The keyword is: {keyword}\"\n",
        "    return \"Hash not found in the dictionary.\""
      ],
      "metadata": {
        "id": "SJpgbcFV4sV1"
      },
      "execution_count": null,
      "outputs": []
    },
    {
      "cell_type": "code",
      "source": [
        "# Specify CSV file path\n",
        "file_path = input(\"Enter path to CSV file: \")\n",
        "#file_path = \"C:/Users/Brett/Downloads/test1337.csv\"\n",
        "\n",
        "# Load CSV into dictionary\n",
        "known_hashes_from_csv = load_csv_to_dict(file_path)\n",
        "\n",
        "# Input: number\n",
        "input_number = input(\"Enter a number: \")\n",
        "\n",
        "# Generate hash\n",
        "hash_of_input = get_sha256(input_number)\n",
        "\n",
        "# Result\n",
        "result = check_known_hashes(hash_of_input, known_hashes_from_csv)\n",
        "\n",
        "# Display\n",
        "print(result)"
      ],
      "metadata": {
        "id": "wqDxcdhG4slj"
      },
      "execution_count": null,
      "outputs": []
    }
  ]
}